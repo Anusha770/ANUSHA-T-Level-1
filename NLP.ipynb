{
  "nbformat": 4,
  "nbformat_minor": 0,
  "metadata": {
    "colab": {
      "provenance": [],
      "include_colab_link": true
    },
    "kernelspec": {
      "name": "python3",
      "display_name": "Python 3"
    },
    "language_info": {
      "name": "python"
    }
  },
  "cells": [
    {
      "cell_type": "markdown",
      "metadata": {
        "id": "view-in-github",
        "colab_type": "text"
      },
      "source": [
        "<a href=\"https://colab.research.google.com/github/Anusha770/ANUSHA-T-Level-1/blob/master/NLP.ipynb\" target=\"_parent\"><img src=\"https://colab.research.google.com/assets/colab-badge.svg\" alt=\"Open In Colab\"/></a>"
      ]
    },
    {
      "cell_type": "markdown",
      "source": [
        "Name Abhay V R\n",
        "U"
      ],
      "metadata": {
        "id": "c5aLJD5WYg5B"
      }
    },
    {
      "cell_type": "code",
      "execution_count": null,
      "metadata": {
        "colab": {
          "base_uri": "https://localhost:8080/"
        },
        "id": "VP_fCupNEZ5P",
        "outputId": "ca83a2bf-961e-4520-b70f-527d67381976"
      },
      "outputs": [
        {
          "output_type": "stream",
          "name": "stdout",
          "text": [
            "Looking in indexes: https://pypi.org/simple, https://us-python.pkg.dev/colab-wheels/public/simple/\n",
            "Requirement already satisfied: spacy in /usr/local/lib/python3.7/dist-packages (3.4.1)\n",
            "Requirement already satisfied: typing-extensions<4.2.0,>=3.7.4 in /usr/local/lib/python3.7/dist-packages (from spacy) (4.1.1)\n",
            "Requirement already satisfied: setuptools in /usr/local/lib/python3.7/dist-packages (from spacy) (57.4.0)\n",
            "Requirement already satisfied: murmurhash<1.1.0,>=0.28.0 in /usr/local/lib/python3.7/dist-packages (from spacy) (1.0.8)\n",
            "Requirement already satisfied: pathy>=0.3.5 in /usr/local/lib/python3.7/dist-packages (from spacy) (0.6.2)\n",
            "Requirement already satisfied: spacy-loggers<2.0.0,>=1.0.0 in /usr/local/lib/python3.7/dist-packages (from spacy) (1.0.3)\n",
            "Requirement already satisfied: tqdm<5.0.0,>=4.38.0 in /usr/local/lib/python3.7/dist-packages (from spacy) (4.64.0)\n",
            "Requirement already satisfied: wasabi<1.1.0,>=0.9.1 in /usr/local/lib/python3.7/dist-packages (from spacy) (0.10.1)\n",
            "Requirement already satisfied: srsly<3.0.0,>=2.4.3 in /usr/local/lib/python3.7/dist-packages (from spacy) (2.4.4)\n",
            "Requirement already satisfied: requests<3.0.0,>=2.13.0 in /usr/local/lib/python3.7/dist-packages (from spacy) (2.23.0)\n",
            "Requirement already satisfied: typer<0.5.0,>=0.3.0 in /usr/local/lib/python3.7/dist-packages (from spacy) (0.4.2)\n",
            "Requirement already satisfied: numpy>=1.15.0 in /usr/local/lib/python3.7/dist-packages (from spacy) (1.21.6)\n",
            "Requirement already satisfied: langcodes<4.0.0,>=3.2.0 in /usr/local/lib/python3.7/dist-packages (from spacy) (3.3.0)\n",
            "Requirement already satisfied: jinja2 in /usr/local/lib/python3.7/dist-packages (from spacy) (2.11.3)\n",
            "Requirement already satisfied: catalogue<2.1.0,>=2.0.6 in /usr/local/lib/python3.7/dist-packages (from spacy) (2.0.8)\n",
            "Requirement already satisfied: thinc<8.2.0,>=8.1.0 in /usr/local/lib/python3.7/dist-packages (from spacy) (8.1.0)\n",
            "Requirement already satisfied: spacy-legacy<3.1.0,>=3.0.9 in /usr/local/lib/python3.7/dist-packages (from spacy) (3.0.10)\n",
            "Requirement already satisfied: preshed<3.1.0,>=3.0.2 in /usr/local/lib/python3.7/dist-packages (from spacy) (3.0.7)\n",
            "Requirement already satisfied: packaging>=20.0 in /usr/local/lib/python3.7/dist-packages (from spacy) (21.3)\n",
            "Requirement already satisfied: cymem<2.1.0,>=2.0.2 in /usr/local/lib/python3.7/dist-packages (from spacy) (2.0.6)\n",
            "Requirement already satisfied: pydantic!=1.8,!=1.8.1,<1.10.0,>=1.7.4 in /usr/local/lib/python3.7/dist-packages (from spacy) (1.9.2)\n",
            "Requirement already satisfied: zipp>=0.5 in /usr/local/lib/python3.7/dist-packages (from catalogue<2.1.0,>=2.0.6->spacy) (3.8.1)\n",
            "Requirement already satisfied: pyparsing!=3.0.5,>=2.0.2 in /usr/local/lib/python3.7/dist-packages (from packaging>=20.0->spacy) (3.0.9)\n",
            "Requirement already satisfied: smart-open<6.0.0,>=5.2.1 in /usr/local/lib/python3.7/dist-packages (from pathy>=0.3.5->spacy) (5.2.1)\n",
            "Requirement already satisfied: idna<3,>=2.5 in /usr/local/lib/python3.7/dist-packages (from requests<3.0.0,>=2.13.0->spacy) (2.10)\n",
            "Requirement already satisfied: urllib3!=1.25.0,!=1.25.1,<1.26,>=1.21.1 in /usr/local/lib/python3.7/dist-packages (from requests<3.0.0,>=2.13.0->spacy) (1.24.3)\n",
            "Requirement already satisfied: chardet<4,>=3.0.2 in /usr/local/lib/python3.7/dist-packages (from requests<3.0.0,>=2.13.0->spacy) (3.0.4)\n",
            "Requirement already satisfied: certifi>=2017.4.17 in /usr/local/lib/python3.7/dist-packages (from requests<3.0.0,>=2.13.0->spacy) (2022.6.15)\n",
            "Requirement already satisfied: blis<0.8.0,>=0.7.8 in /usr/local/lib/python3.7/dist-packages (from thinc<8.2.0,>=8.1.0->spacy) (0.7.8)\n",
            "Requirement already satisfied: click<9.0.0,>=7.1.1 in /usr/local/lib/python3.7/dist-packages (from typer<0.5.0,>=0.3.0->spacy) (7.1.2)\n",
            "Requirement already satisfied: MarkupSafe>=0.23 in /usr/local/lib/python3.7/dist-packages (from jinja2->spacy) (2.0.1)\n"
          ]
        }
      ],
      "source": [
        "pip install spacy"
      ]
    },
    {
      "cell_type": "markdown",
      "source": [
        "Stemming and lemmatization"
      ],
      "metadata": {
        "id": "bWAklylMFSRf"
      }
    },
    {
      "cell_type": "code",
      "source": [
        "words=['run','runner','running','ran','runs','easily','fairly']"
      ],
      "metadata": {
        "id": "LHl68W1RFzNM"
      },
      "execution_count": null,
      "outputs": []
    },
    {
      "cell_type": "code",
      "source": [
        "import nltk"
      ],
      "metadata": {
        "id": "an1JkqjoGXId"
      },
      "execution_count": null,
      "outputs": []
    },
    {
      "cell_type": "code",
      "source": [
        "from nltk.stem.porter import PorterStemmer\n",
        "from nltk.stem.snowball import SnowballStemmer"
      ],
      "metadata": {
        "id": "7QupwCgHGcKW"
      },
      "execution_count": null,
      "outputs": []
    },
    {
      "cell_type": "code",
      "source": [
        "p_stemmer = PorterStemmer()\n",
        "s_stemmer = SnowballStemmer(language='english')"
      ],
      "metadata": {
        "id": "46NY1dJ4G2t3"
      },
      "execution_count": null,
      "outputs": []
    },
    {
      "cell_type": "code",
      "source": [
        "for word in words:\n",
        "    print(word + '-----' + p_stemmer.stem(word))"
      ],
      "metadata": {
        "colab": {
          "base_uri": "https://localhost:8080/"
        },
        "id": "VpgqrpylHIxe",
        "outputId": "c896fc56-ae4a-45f0-8afe-82c3e9c856d8"
      },
      "execution_count": null,
      "outputs": [
        {
          "output_type": "stream",
          "name": "stdout",
          "text": [
            "run-----run\n",
            "runner-----runner\n",
            "running-----run\n",
            "ran-----ran\n",
            "runs-----run\n",
            "easily-----easili\n",
            "fairly-----fairli\n"
          ]
        }
      ]
    },
    {
      "cell_type": "code",
      "source": [
        "for word in words:\n",
        "    print(word + '-----' + s_stemmer.stem(word))"
      ],
      "metadata": {
        "colab": {
          "base_uri": "https://localhost:8080/"
        },
        "id": "5SsAuYgZI6zU",
        "outputId": "63e2f3a2-784b-460b-9049-083b9d8bc5bd"
      },
      "execution_count": null,
      "outputs": [
        {
          "output_type": "stream",
          "name": "stdout",
          "text": [
            "run-----run\n",
            "runner-----runner\n",
            "running-----run\n",
            "ran-----ran\n",
            "runs-----run\n",
            "easily-----easili\n",
            "fairly-----fair\n"
          ]
        }
      ]
    },
    {
      "cell_type": "markdown",
      "source": [
        "Lemmatization"
      ],
      "metadata": {
        "id": "9qVBDbZnJmvh"
      }
    },
    {
      "cell_type": "code",
      "source": [
        "import spacy\n",
        "NLP= spacy.load('en_core_web_sm')"
      ],
      "metadata": {
        "id": "E1le39QWJp4b"
      },
      "execution_count": null,
      "outputs": []
    },
    {
      "cell_type": "code",
      "source": [
        "docl=NLP(\"The stripped bats are helping on their feet for best\")"
      ],
      "metadata": {
        "id": "rcLbuW_YJ6tG"
      },
      "execution_count": null,
      "outputs": []
    },
    {
      "cell_type": "code",
      "source": [
        "for token in docl:\n",
        "    print(token.text,'\\t',token.lemma_)"
      ],
      "metadata": {
        "colab": {
          "base_uri": "https://localhost:8080/"
        },
        "id": "3vPk_VoCKLnA",
        "outputId": "676d1029-240d-453b-99af-7c122d44239a"
      },
      "execution_count": null,
      "outputs": [
        {
          "output_type": "stream",
          "name": "stdout",
          "text": [
            "The \t the\n",
            "stripped \t strip\n",
            "bats \t bat\n",
            "are \t be\n",
            "helping \t help\n",
            "on \t on\n",
            "their \t their\n",
            "feet \t foot\n",
            "for \t for\n",
            "best \t good\n"
          ]
        }
      ]
    },
    {
      "cell_type": "code",
      "source": [
        "S1=\"The stripped bats are helping on their feet for best\"\n",
        "for word in S1.split():\n",
        "    print(word + '-----' + p_stemmer.stem(word))"
      ],
      "metadata": {
        "colab": {
          "base_uri": "https://localhost:8080/"
        },
        "id": "SIIqiJ0UKtDX",
        "outputId": "98216ec0-6d09-4399-c76a-274d593e4642"
      },
      "execution_count": null,
      "outputs": [
        {
          "output_type": "stream",
          "name": "stdout",
          "text": [
            "The-----the\n",
            "stripped-----strip\n",
            "bats-----bat\n",
            "are-----are\n",
            "helping-----help\n",
            "on-----on\n",
            "their-----their\n",
            "feet-----feet\n",
            "for-----for\n",
            "best-----best\n"
          ]
        }
      ]
    },
    {
      "cell_type": "code",
      "source": [
        "def bayes_theorem(p_b, p_g_given_b, p_g_given_not_b):\n",
        "   # calculate P(not B)\n",
        "   not_b = 1 - p_b\n",
        "   # calculate P(G)\n",
        "   p_g = p_g_given_b * p_b + p_g_given_not_b * not_b\n",
        "   # calculate P(B|G)\n",
        "   p_b_given_g = (p_g_given_b * p_b) / p_g\n",
        "   return p_b_given_g\n",
        "#P(B)\n",
        "p_b = 1/4\n",
        "# P(G|B)\n",
        "p_g_given_b = 1\n",
        "# P(G|notB)\n",
        "p_g_given_not_b = 1/3\n",
        "# calculate P(B|G)\n",
        "result = bayes_theorem(p_b, p_g_given_b, p_g_given_not_b)\n",
        "# print result\n",
        "print('P(B|G) = %.2f%%' % (result * 100))"
      ],
      "metadata": {
        "colab": {
          "base_uri": "https://localhost:8080/"
        },
        "id": "wsuqp1Cs4Bff",
        "outputId": "9612a539-70e1-4134-bdfe-b46c580e2561"
      },
      "execution_count": null,
      "outputs": [
        {
          "output_type": "stream",
          "name": "stdout",
          "text": [
            "P(B|G) = 50.00%\n"
          ]
        }
      ]
    },
    {
      "cell_type": "code",
      "source": [
        "import nltk"
      ],
      "metadata": {
        "id": "7I9ZA3IkH-o2"
      },
      "execution_count": null,
      "outputs": []
    },
    {
      "cell_type": "code",
      "source": [
        "from nltk.corpus import wordnet"
      ],
      "metadata": {
        "id": "xpSTUsLFIE25"
      },
      "execution_count": null,
      "outputs": []
    },
    {
      "cell_type": "code",
      "source": [
        "from nltk.corpus import wordnet as wn"
      ],
      "metadata": {
        "id": "bqG-_T-uI745"
      },
      "execution_count": null,
      "outputs": []
    },
    {
      "cell_type": "code",
      "source": [
        "import nltk\n",
        "nltk.download('wordnet')"
      ],
      "metadata": {
        "id": "9Vf8JRz-JIl5",
        "outputId": "ba90d7b1-43f4-4760-b38e-f62c2c3129a0",
        "colab": {
          "base_uri": "https://localhost:8080/"
        }
      },
      "execution_count": null,
      "outputs": [
        {
          "output_type": "stream",
          "name": "stderr",
          "text": [
            "[nltk_data] Downloading package wordnet to /root/nltk_data...\n"
          ]
        },
        {
          "output_type": "execute_result",
          "data": {
            "text/plain": [
              "True"
            ]
          },
          "metadata": {},
          "execution_count": 9
        }
      ]
    },
    {
      "cell_type": "code",
      "source": [
        "#Min edit distance \n",
        "# Declaring the strings 'a' and 'b':\n",
        "a = \"junk\"\n",
        "b = \"clunky\"\n",
        "\n",
        "# Declaring array 'D' with rows = len(a) + 1 and columns = len(b) + 1:\n",
        "D = [[0 for i in range(len(b) + 1)] for j in range(len(a) + 1)]\n",
        "\n",
        "# Initialising first row:\n",
        "for i in range(len(a) + 1):\n",
        "    D[i][0] = i\n",
        "\n",
        "# Initialising first column:\n",
        "for j in range(len(b) + 1):\n",
        "    D[0][j] = j\n",
        "\n",
        "for i in range(1, len(a) + 1):\n",
        "    for j in range(1, len(b) + 1):\n",
        "        if a[i - 1] == b[j - 1]:\n",
        "            D[i][j] = D[i - 1][j - 1]\n",
        "        else:\n",
        "            # Adding 1 to account for the cost of operation\n",
        "            insertion = 1 + D[i][j - 1]\n",
        "            deletion = 1 + D[i - 1][j]\n",
        "            replacement = 1 + D[i - 1][j - 1]\n",
        "\n",
        "            # Choosing the best option:\n",
        "            D[i][j] = min(insertion, deletion, replacement)\n",
        "\n",
        "print(\"Levenshtein Distance: \", D[len(a)][len(b)])"
      ],
      "metadata": {
        "colab": {
          "base_uri": "https://localhost:8080/"
        },
        "id": "nk7iUyVW1sD6",
        "outputId": "e924c02b-19b3-438d-9b2a-285cfdcc294b"
      },
      "execution_count": null,
      "outputs": [
        {
          "output_type": "stream",
          "name": "stdout",
          "text": [
            "Levenshtein Distance:  3\n"
          ]
        }
      ]
    },
    {
      "cell_type": "code",
      "source": [
        "#regex\n",
        "import re\n",
        "\n",
        "txt = \"The rain in Spain\"\n",
        "x = re.findall(\"ai\", txt)\n",
        "print(x)\n",
        "y = re.search(\"\\s\", txt)\n",
        "print(\"The first white-space character is located in position:\", y.start())\n",
        "txt = \"The rain in Spain\"\n",
        "z = re.sub(\"\\s\", \"9\", txt)\n",
        "print(z)"
      ],
      "metadata": {
        "colab": {
          "base_uri": "https://localhost:8080/"
        },
        "id": "JvmGkOye1_q3",
        "outputId": "9f731d93-5ce5-426f-c394-335215ff4795"
      },
      "execution_count": null,
      "outputs": [
        {
          "output_type": "stream",
          "name": "stdout",
          "text": [
            "['ai', 'ai']\n",
            "The first white-space character is located in position: 3\n",
            "The9rain9in9Spain\n"
          ]
        }
      ]
    },
    {
      "cell_type": "code",
      "source": [
        "#penn treebank tokenation\n",
        "from nltk.tokenize import TreebankWordTokenizer\n",
        "s = '''Good muffins cost $3.88\\nin New York.  Please buy me\\ntwo of them.\\nThanks.'''\n",
        "TreebankWordTokenizer().tokenize(s)\n",
        "TreebankWordTokenizer().tokenize(s, convert_parentheses=True)\n",
        "TreebankWordTokenizer().tokenize(s, return_str=True)"
      ],
      "metadata": {
        "colab": {
          "base_uri": "https://localhost:8080/"
        },
        "id": "5k_PAwlQ2vNd",
        "outputId": "77a2751e-c9ec-415d-b8bc-13949e33f9f3"
      },
      "execution_count": null,
      "outputs": [
        {
          "output_type": "stream",
          "name": "stderr",
          "text": [
            "/usr/local/lib/python3.7/dist-packages/ipykernel_launcher.py:5: DeprecationWarning: Parameter 'return_str' has been deprecated and should no longer be used.\n",
            "  \"\"\"\n"
          ]
        },
        {
          "output_type": "execute_result",
          "data": {
            "text/plain": [
              "['Good',\n",
              " 'muffins',\n",
              " 'cost',\n",
              " '$',\n",
              " '3.88',\n",
              " 'in',\n",
              " 'New',\n",
              " 'York.',\n",
              " 'Please',\n",
              " 'buy',\n",
              " 'me',\n",
              " 'two',\n",
              " 'of',\n",
              " 'them.',\n",
              " 'Thanks',\n",
              " '.']"
            ]
          },
          "metadata": {},
          "execution_count": 7
        }
      ]
    },
    {
      "cell_type": "code",
      "source": [
        "import pandas as pd \n",
        "import numpy as np \n",
        "import matplotlib.pyplot as plt \n",
        "import tensorflow as tf \n",
        "\n",
        "from keras.preprocessing.text import Tokenizer \n",
        "from keras.preprocessing.sequence import pad_sequences"
      ],
      "metadata": {
        "id": "Ky_Ua509SN72"
      },
      "execution_count": null,
      "outputs": []
    },
    {
      "cell_type": "code",
      "source": [
        "VOCAB_SIZE = 30000\n",
        "EMBEDDING_DIM = 16\n",
        "EPOCHS = 15\n",
        "MAX_LEN = 32\n",
        "TRUNC_TYPE = 'post'\n",
        "PADD_TYPE = 'post'\n",
        "UNK_TOK = '<UNK>'\n",
        "TRAINING_SIZE = 1000"
      ],
      "metadata": {
        "id": "0t7qVCIeSY-Z"
      },
      "execution_count": null,
      "outputs": []
    },
    {
      "cell_type": "code",
      "source": [
        "from google.colab import files\n",
        "uploaded=files.upload()"
      ],
      "metadata": {
        "colab": {
          "base_uri": "https://localhost:8080/",
          "height": 128
        },
        "id": "le8PjyCTWT0s",
        "outputId": "ae7d1649-c07e-4bcb-dfc3-f8a6f173dfba"
      },
      "execution_count": null,
      "outputs": [
        {
          "output_type": "display_data",
          "data": {
            "text/plain": [
              "<IPython.core.display.HTML object>"
            ],
            "text/html": [
              "\n",
              "     <input type=\"file\" id=\"files-7df5721f-c607-4705-aa7a-d1abb4cca62e\" name=\"files[]\" multiple disabled\n",
              "        style=\"border:none\" />\n",
              "     <output id=\"result-7df5721f-c607-4705-aa7a-d1abb4cca62e\">\n",
              "      Upload widget is only available when the cell has been executed in the\n",
              "      current browser session. Please rerun this cell to enable.\n",
              "      </output>\n",
              "      <script>// Copyright 2017 Google LLC\n",
              "//\n",
              "// Licensed under the Apache License, Version 2.0 (the \"License\");\n",
              "// you may not use this file except in compliance with the License.\n",
              "// You may obtain a copy of the License at\n",
              "//\n",
              "//      http://www.apache.org/licenses/LICENSE-2.0\n",
              "//\n",
              "// Unless required by applicable law or agreed to in writing, software\n",
              "// distributed under the License is distributed on an \"AS IS\" BASIS,\n",
              "// WITHOUT WARRANTIES OR CONDITIONS OF ANY KIND, either express or implied.\n",
              "// See the License for the specific language governing permissions and\n",
              "// limitations under the License.\n",
              "\n",
              "/**\n",
              " * @fileoverview Helpers for google.colab Python module.\n",
              " */\n",
              "(function(scope) {\n",
              "function span(text, styleAttributes = {}) {\n",
              "  const element = document.createElement('span');\n",
              "  element.textContent = text;\n",
              "  for (const key of Object.keys(styleAttributes)) {\n",
              "    element.style[key] = styleAttributes[key];\n",
              "  }\n",
              "  return element;\n",
              "}\n",
              "\n",
              "// Max number of bytes which will be uploaded at a time.\n",
              "const MAX_PAYLOAD_SIZE = 100 * 1024;\n",
              "\n",
              "function _uploadFiles(inputId, outputId) {\n",
              "  const steps = uploadFilesStep(inputId, outputId);\n",
              "  const outputElement = document.getElementById(outputId);\n",
              "  // Cache steps on the outputElement to make it available for the next call\n",
              "  // to uploadFilesContinue from Python.\n",
              "  outputElement.steps = steps;\n",
              "\n",
              "  return _uploadFilesContinue(outputId);\n",
              "}\n",
              "\n",
              "// This is roughly an async generator (not supported in the browser yet),\n",
              "// where there are multiple asynchronous steps and the Python side is going\n",
              "// to poll for completion of each step.\n",
              "// This uses a Promise to block the python side on completion of each step,\n",
              "// then passes the result of the previous step as the input to the next step.\n",
              "function _uploadFilesContinue(outputId) {\n",
              "  const outputElement = document.getElementById(outputId);\n",
              "  const steps = outputElement.steps;\n",
              "\n",
              "  const next = steps.next(outputElement.lastPromiseValue);\n",
              "  return Promise.resolve(next.value.promise).then((value) => {\n",
              "    // Cache the last promise value to make it available to the next\n",
              "    // step of the generator.\n",
              "    outputElement.lastPromiseValue = value;\n",
              "    return next.value.response;\n",
              "  });\n",
              "}\n",
              "\n",
              "/**\n",
              " * Generator function which is called between each async step of the upload\n",
              " * process.\n",
              " * @param {string} inputId Element ID of the input file picker element.\n",
              " * @param {string} outputId Element ID of the output display.\n",
              " * @return {!Iterable<!Object>} Iterable of next steps.\n",
              " */\n",
              "function* uploadFilesStep(inputId, outputId) {\n",
              "  const inputElement = document.getElementById(inputId);\n",
              "  inputElement.disabled = false;\n",
              "\n",
              "  const outputElement = document.getElementById(outputId);\n",
              "  outputElement.innerHTML = '';\n",
              "\n",
              "  const pickedPromise = new Promise((resolve) => {\n",
              "    inputElement.addEventListener('change', (e) => {\n",
              "      resolve(e.target.files);\n",
              "    });\n",
              "  });\n",
              "\n",
              "  const cancel = document.createElement('button');\n",
              "  inputElement.parentElement.appendChild(cancel);\n",
              "  cancel.textContent = 'Cancel upload';\n",
              "  const cancelPromise = new Promise((resolve) => {\n",
              "    cancel.onclick = () => {\n",
              "      resolve(null);\n",
              "    };\n",
              "  });\n",
              "\n",
              "  // Wait for the user to pick the files.\n",
              "  const files = yield {\n",
              "    promise: Promise.race([pickedPromise, cancelPromise]),\n",
              "    response: {\n",
              "      action: 'starting',\n",
              "    }\n",
              "  };\n",
              "\n",
              "  cancel.remove();\n",
              "\n",
              "  // Disable the input element since further picks are not allowed.\n",
              "  inputElement.disabled = true;\n",
              "\n",
              "  if (!files) {\n",
              "    return {\n",
              "      response: {\n",
              "        action: 'complete',\n",
              "      }\n",
              "    };\n",
              "  }\n",
              "\n",
              "  for (const file of files) {\n",
              "    const li = document.createElement('li');\n",
              "    li.append(span(file.name, {fontWeight: 'bold'}));\n",
              "    li.append(span(\n",
              "        `(${file.type || 'n/a'}) - ${file.size} bytes, ` +\n",
              "        `last modified: ${\n",
              "            file.lastModifiedDate ? file.lastModifiedDate.toLocaleDateString() :\n",
              "                                    'n/a'} - `));\n",
              "    const percent = span('0% done');\n",
              "    li.appendChild(percent);\n",
              "\n",
              "    outputElement.appendChild(li);\n",
              "\n",
              "    const fileDataPromise = new Promise((resolve) => {\n",
              "      const reader = new FileReader();\n",
              "      reader.onload = (e) => {\n",
              "        resolve(e.target.result);\n",
              "      };\n",
              "      reader.readAsArrayBuffer(file);\n",
              "    });\n",
              "    // Wait for the data to be ready.\n",
              "    let fileData = yield {\n",
              "      promise: fileDataPromise,\n",
              "      response: {\n",
              "        action: 'continue',\n",
              "      }\n",
              "    };\n",
              "\n",
              "    // Use a chunked sending to avoid message size limits. See b/62115660.\n",
              "    let position = 0;\n",
              "    do {\n",
              "      const length = Math.min(fileData.byteLength - position, MAX_PAYLOAD_SIZE);\n",
              "      const chunk = new Uint8Array(fileData, position, length);\n",
              "      position += length;\n",
              "\n",
              "      const base64 = btoa(String.fromCharCode.apply(null, chunk));\n",
              "      yield {\n",
              "        response: {\n",
              "          action: 'append',\n",
              "          file: file.name,\n",
              "          data: base64,\n",
              "        },\n",
              "      };\n",
              "\n",
              "      let percentDone = fileData.byteLength === 0 ?\n",
              "          100 :\n",
              "          Math.round((position / fileData.byteLength) * 100);\n",
              "      percent.textContent = `${percentDone}% done`;\n",
              "\n",
              "    } while (position < fileData.byteLength);\n",
              "  }\n",
              "\n",
              "  // All done.\n",
              "  yield {\n",
              "    response: {\n",
              "      action: 'complete',\n",
              "    }\n",
              "  };\n",
              "}\n",
              "\n",
              "scope.google = scope.google || {};\n",
              "scope.google.colab = scope.google.colab || {};\n",
              "scope.google.colab._files = {\n",
              "  _uploadFiles,\n",
              "  _uploadFilesContinue,\n",
              "};\n",
              "})(self);\n",
              "</script> "
            ]
          },
          "metadata": {}
        },
        {
          "output_type": "stream",
          "name": "stdout",
          "text": [
            "Saving Spam dataset.csv to Spam dataset.csv\n"
          ]
        }
      ]
    },
    {
      "cell_type": "code",
      "source": [
        "dataset = pd.read_csv('Spam dataset.csv')"
      ],
      "metadata": {
        "id": "MRWCuVV3U7t8"
      },
      "execution_count": null,
      "outputs": []
    },
    {
      "cell_type": "code",
      "source": [
        "dataset[\"Category\"] = [1 if each == \"spam\" else 0 for each in dataset[\"Category\"]]"
      ],
      "metadata": {
        "id": "h9y3tLKdWvGd"
      },
      "execution_count": null,
      "outputs": []
    },
    {
      "cell_type": "code",
      "source": [
        "X = dataset.iloc[:, 1].values\n",
        "X = X.reshape(-1, 1)"
      ],
      "metadata": {
        "id": "Ej5uZiw1VSln"
      },
      "execution_count": null,
      "outputs": []
    },
    {
      "cell_type": "code",
      "source": [
        "Y = dataset.iloc[:, 0].values\n",
        "y = Y.reshape(-1, 1)"
      ],
      "metadata": {
        "id": "g9pWil2PVX7R"
      },
      "execution_count": null,
      "outputs": []
    },
    {
      "cell_type": "code",
      "source": [
        "X = list(X)\n",
        "y = list(y)"
      ],
      "metadata": {
        "id": "96YQ-8DfVYgD"
      },
      "execution_count": null,
      "outputs": []
    },
    {
      "cell_type": "code",
      "source": [
        "Training_Sentences = X[TRAINING_SIZE:]\n",
        "Training_Labels = y[TRAINING_SIZE:]"
      ],
      "metadata": {
        "id": "V6-er6iTXIkw"
      },
      "execution_count": null,
      "outputs": []
    },
    {
      "cell_type": "code",
      "source": [
        "Testing_Sentences = X[0: TRAINING_SIZE]\n",
        "Testing_Lables = y[0:TRAINING_SIZE]"
      ],
      "metadata": {
        "id": "cib31YA3Vc5A"
      },
      "execution_count": null,
      "outputs": []
    },
    {
      "cell_type": "code",
      "source": [
        "tokenizer = Tokenizer(num_words=VOCAB_SIZE, oov_token=UNK_TOK)\n",
        "tokenizer.fit_on_texts(Training_Sentences)\n",
        "\n",
        "word_index = tokenizer.word_index\n",
        "\n",
        "#print(word_index, '\\n \\n \\n')\n",
        "\n",
        "Training_Sequences = tokenizer.texts_to_sequences(Training_Sentences)\n",
        "Training_pad = pad_sequences(Training_Sequences, maxlen=MAX_LEN, padding=PADD_TYPE, truncating=TRUNC_TYPE)\n",
        "\n",
        "Testing_Sequences = tokenizer.texts_to_sequences(Testing_Sentences)\n",
        "Testing_pad = pad_sequences(Testing_Sequences, maxlen=MAX_LEN, padding=PADD_TYPE, truncating=TRUNC_TYPE)"
      ],
      "metadata": {
        "id": "7gcLYm4TVp_E"
      },
      "execution_count": null,
      "outputs": []
    },
    {
      "cell_type": "code",
      "source": [
        "model = tf.keras.Sequential()"
      ],
      "metadata": {
        "id": "uxOAAXxBXt90"
      },
      "execution_count": null,
      "outputs": []
    },
    {
      "cell_type": "code",
      "source": [
        "model.add(tf.keras.layers.Embedding(VOCAB_SIZE, EMBEDDING_DIM, input_length=MAX_LEN))\n",
        "model.add(tf.keras.layers.Bidirectional(tf.keras.layers.LSTM(64, return_sequences=True)))\n",
        "model.add(tf.keras.layers.Bidirectional(tf.keras.layers.LSTM(64)))\n",
        "model.add(tf.keras.layers.Flatten())\n",
        "model.add(tf.keras.layers.Dense(24, activation='relu'))\n",
        "model.add(tf.keras.layers.Dense(1, activation='sigmoid'))"
      ],
      "metadata": {
        "id": "Kgd6YvJDX0ce"
      },
      "execution_count": null,
      "outputs": []
    },
    {
      "cell_type": "code",
      "source": [
        "Training_Sequences_padded = np.asarray(Training_pad)\n",
        "Testing_Sequences_padded = np.asarray(Testing_pad)\n",
        "Training_Labels = np.asarray(Training_Labels)\n",
        "Testing_Lables = np.asarray(Testing_Lables)"
      ],
      "metadata": {
        "id": "9lFocVviX7_f"
      },
      "execution_count": null,
      "outputs": []
    },
    {
      "cell_type": "code",
      "source": [
        "model.compile(optimizer='adam', loss='binary_crossentropy', metrics=['accuracy'])\n",
        "history = model.fit(Training_Sequences_padded, Training_Labels, validation_data=(Testing_Sequences_padded, Testing_Lables), epochs=EPOCHS)"
      ],
      "metadata": {
        "colab": {
          "base_uri": "https://localhost:8080/"
        },
        "id": "zvDKXBnYYFRN",
        "outputId": "82dcd56b-9a23-4780-e61a-8ba394bafc30"
      },
      "execution_count": null,
      "outputs": [
        {
          "output_type": "stream",
          "name": "stdout",
          "text": [
            "Epoch 1/15\n",
            "143/143 [==============================] - 21s 91ms/step - loss: 0.4126 - accuracy: 0.8637 - val_loss: 0.4270 - val_accuracy: 0.8480\n",
            "Epoch 2/15\n",
            "143/143 [==============================] - 11s 80ms/step - loss: 0.3880 - accuracy: 0.8699 - val_loss: 0.4313 - val_accuracy: 0.8480\n",
            "Epoch 3/15\n",
            "143/143 [==============================] - 12s 85ms/step - loss: 0.1887 - accuracy: 0.9381 - val_loss: 0.9332 - val_accuracy: 0.2300\n",
            "Epoch 4/15\n",
            "143/143 [==============================] - 11s 80ms/step - loss: 0.0049 - accuracy: 0.9996 - val_loss: 4.0931 - val_accuracy: 0.2300\n",
            "Epoch 5/15\n",
            "143/143 [==============================] - 11s 79ms/step - loss: 0.0029 - accuracy: 0.9996 - val_loss: 3.7445 - val_accuracy: 0.2300\n",
            "Epoch 6/15\n",
            "143/143 [==============================] - 11s 79ms/step - loss: 3.2416e-04 - accuracy: 1.0000 - val_loss: 4.7166 - val_accuracy: 0.2300\n",
            "Epoch 7/15\n",
            "143/143 [==============================] - 11s 79ms/step - loss: 1.6521e-04 - accuracy: 1.0000 - val_loss: 5.2502 - val_accuracy: 0.2300\n",
            "Epoch 8/15\n",
            "143/143 [==============================] - 11s 80ms/step - loss: 1.0671e-04 - accuracy: 1.0000 - val_loss: 5.6194 - val_accuracy: 0.2300\n",
            "Epoch 9/15\n",
            "143/143 [==============================] - 11s 79ms/step - loss: 7.5631e-05 - accuracy: 1.0000 - val_loss: 5.9266 - val_accuracy: 0.2300\n",
            "Epoch 10/15\n",
            "143/143 [==============================] - 11s 80ms/step - loss: 5.6605e-05 - accuracy: 1.0000 - val_loss: 6.1768 - val_accuracy: 0.2300\n",
            "Epoch 11/15\n",
            "143/143 [==============================] - 11s 79ms/step - loss: 4.4055e-05 - accuracy: 1.0000 - val_loss: 6.3941 - val_accuracy: 0.2300\n",
            "Epoch 12/15\n",
            "143/143 [==============================] - 11s 80ms/step - loss: 3.5288e-05 - accuracy: 1.0000 - val_loss: 6.5891 - val_accuracy: 0.2300\n",
            "Epoch 13/15\n",
            "143/143 [==============================] - 11s 80ms/step - loss: 2.8861e-05 - accuracy: 1.0000 - val_loss: 6.7630 - val_accuracy: 0.2300\n",
            "Epoch 14/15\n",
            "143/143 [==============================] - 12s 81ms/step - loss: 2.3993e-05 - accuracy: 1.0000 - val_loss: 6.9233 - val_accuracy: 0.2300\n",
            "Epoch 15/15\n",
            "143/143 [==============================] - 12s 80ms/step - loss: 2.0198e-05 - accuracy: 1.0000 - val_loss: 7.0705 - val_accuracy: 0.2300\n"
          ]
        }
      ]
    },
    {
      "cell_type": "code",
      "source": [
        "def Plot(history, string):\n",
        " plt.plot(history.history[string])\n",
        " plt.plot(history.history['val_' + string])\n",
        " plt.xlabel('EPOCHS')\n",
        " plt.ylabel(string)\n",
        " plt.legend([string, 'val_' + string])\n",
        " plt.show()\n",
        "\n",
        "Plot(history, \"accuracy\")\n",
        "Plot(history, \"loss\")"
      ],
      "metadata": {
        "id": "0y_HR0e3a5DU",
        "outputId": "d454412d-8d0f-44a0-a96a-6bfef3ccdc37",
        "colab": {
          "base_uri": "https://localhost:8080/",
          "height": 390
        }
      },
      "execution_count": null,
      "outputs": [
        {
          "output_type": "display_data",
          "data": {
            "text/plain": [
              "<Figure size 432x288 with 1 Axes>"
            ],
            "image/png": "[encoded data removed]"
          },
          "metadata": {
            "needs_background": "light"
          }
        },
        {
          "output_type": "display_data",
          "data": {
            "text/plain": [
              "<Figure size 432x288 with 1 Axes>"
            ],
            "image/png": "[encoded data removed]"
          },
          "metadata": {
            "needs_background": "light"
          }
        }
      ]
    },
    {
      "cell_type": "code",
      "source": [
        "text = 'Dear Abhay how do you do?'\n",
        "Test = tokenizer.texts_to_sequences([text])[0]\n",
        "Test_padded = pad_sequences([Test], maxlen=MAX_LEN, padding=PADD_TYPE, truncating=TRUNC_TYPE)\n",
        "Test_padded = np.asarray(Test_padded)"
      ],
      "metadata": {
        "id": "e6q49jTUY8NE"
      },
      "execution_count": null,
      "outputs": []
    },
    {
      "cell_type": "code",
      "source": [
        "ypred = model.predict(Test_padded)\n",
        "\n",
        "print('output class: ', ypred)"
      ],
      "metadata": {
        "colab": {
          "base_uri": "https://localhost:8080/"
        },
        "id": "0qfhwh_jZT89",
        "outputId": "1a8618d2-2cf3-4eb7-e96e-1d13ded1f2be"
      },
      "execution_count": null,
      "outputs": [
        {
          "output_type": "stream",
          "name": "stdout",
          "text": [
            "output class:  [[0.99994147]]\n"
          ]
        }
      ]
    }
  ]
}